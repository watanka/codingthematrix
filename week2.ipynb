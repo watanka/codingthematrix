{
 "cells": [
  {
   "cell_type": "code",
   "execution_count": 1,
   "metadata": {},
   "outputs": [],
   "source": [
    "from vec import Vec"
   ]
  },
  {
   "attachments": {},
   "cell_type": "markdown",
   "metadata": {},
   "source": [
    "4.7 Review Questions\n",
    "- 선형 결합은 무엇인가?  \n",
    "    ans) 벡터의 스칼라 합. 벡터 v1, v2, v3, .., vn에 대해, a1v1 + a2v2 + ... + anvn으로 표현 가능하다. (an는 스칼라)\n",
    "\n",
    "- 계수는 무엇인가?  \n",
    "    ans) 벡터의 스칼라 조합. v가 벡터라고 할때, v에 곱해진 모든 실수 곱은 계수이다. -v, v, 1/2v  \n",
    "\n",
    "- 벡터들의 생성은 무엇인가?  \n",
    "    ans) 벡터들의 모든 선형결합으로 이루어진 집합을 생성(span)이라고 한다. Span{v1, v2, ...}라고 표기한다.  \n",
    "\n",
    "- 표준 생성자는 무엇인가?  \n",
    "    ans) 벡터들의 집합인 생성(Span)을 만족하는 벡터들을 생성집합(generating set)이라고 하고, 이 벡터 각각을 span에 대한 생성자(generator)라고 한다.  \n",
    "\n",
    "- flat의 예는 어떤 것이 있는가?    \n",
    "    ans) 점, 직선, 또는 평면과 같은 기하적 객체  \n",
    "\n",
    "- 동차 선형방정식은 무엇인가?  \n",
    "    ans) 해가 0이 되는 선형 결합 방정식. 우변이 0인 선형 방정식.  \n",
    "\n",
    "- 동차 선형시스템은 무엇인가?\n",
    "    ans) 우변이 모두 0인  선형 방정식으로 이루어진 집합(시스템, 교차)  \n",
    "\n",
    "- 원점을 포함하는 flat을 나타내는 두 가지 표현 방식은 무엇인가?  \n",
    "    ans)  1. 어떤 벡터들의 Span을 이용.  2. 동차 선형 시스템의 해집합을 이용  e.g) [-1,0,1] , ax+by+cz = 0  \n",
    "\n",
    "- 벡터공간은 무엇인가?  \n",
    "    ans) 벡터 공간은 세 가지 성질을 갖는다.  \n",
    "    1. 영벡터를 포함한다.  \n",
    "    2. 모든 벡터 v에 대해, 모든 스칼라 alpha에 대해 a*v를 포함하고 스칼라-벡터 곱에 대해 닫혀있다.  \n",
    "    3. 모든 벡터들의 쌍 u,v에 대해, 만약 V가 u,v를 포함하면 V는 u+v를 포함하고 V는 벡터 덧셈에 대해 닫혀있다.  \n",
    "\n",
    "    벡터 공간   \n",
    "    - 벡터들의 생성은 벡터공간  \n",
    "    - 동차 선형 시스템의 해집합은 벡터공간  \n",
    "    - 원점을 포함하는 flat은 어떤 벡터들의 생성(Span) 또는 선형 시스템의 해집합으로 표현할 수 있으므로 벡터공간  \n",
    "    - 임의의 필드 F와 임의의 유한 정의역 D에 대해, F상의 D-벡터들의 집합 FD는 벡터 공간이다.  \n",
    "    - 임의의 필드 F와 임의의 유한 정의역 D에 대해, 영벡터로 구성되는 한 원소 집합 0D는 벡터공간이다.  \n",
    "\n",
    "- 부분 공간은 무엇인가?  \n",
    "    ans) 만약 V와 W가 벡터공간이고, V가 W의 부분집합이면, V는 W의 부분공간(subspace)이다.   \n",
    "\n",
    "- 아핀결합은 무엇인가?  \n",
    "    ans) 벡터들의 선형결합 중, 계수의 총합이 1이 되는 결합.   \n",
    "\n",
    "- 벡터들의 아핀 hull은 무엇인가?  \n",
    "    ans) 어떤 벡터 컬렉션의 모든 아핀결합으로 구성된 집합은 그 컬렉션의 아핀 hull이다.  \n",
    "\n",
    "- 아핀공간은 무엇인가?  \n",
    "    ans) 아핀공간은 벡터공간을 평행이동한 결과이다.  \n",
    "\n",
    "- 원점을 포함하지 않는 flat을 나타내는 두 가지 표현방식은 무엇인가?  \n",
    "    ans) 원점을 포함하는 flat과 마찬가지로 Span으로도 표현 가능하고, 해집합을 이용해 표현도 가능하다.  \n",
    "\n",
    "- 선형시스템의 해집합은 항상 아핀공간인가?  \n",
    "    ans) 선형시스템의 해집합은 항상 공집합이거나 또는 아핀 공간이다. 아핀 공간은 항상 선형시스템의 해집합이지만, 선형시스템의 해집합은 공집합일 수 있으므로, 항상 아핀공간은 아니다.  \n",
    "\n",
    "\n",
    "\n"
   ]
  },
  {
   "cell_type": "code",
   "execution_count": 1,
   "metadata": {},
   "outputs": [],
   "source": [
    "from vec import Vec"
   ]
  },
  {
   "cell_type": "code",
   "execution_count": 9,
   "metadata": {},
   "outputs": [
    {
     "data": {
      "text/plain": [
       "False"
      ]
     },
     "execution_count": 9,
     "metadata": {},
     "output_type": "execute_result"
    }
   ],
   "source": [
    "\n",
    "\n",
    "## vec_select\n",
    "## input : 동일한 정의역을 가진 벡터들로 구성된 리스트 veclist와 그 정의역 원소 k\n",
    "## output : veclist 내 벡터들 v로 구성된 veclist의 부분리스트. 이때, v[k]는 영이다. \n",
    "\n",
    "def vec_select(veclist, k) :\n",
    "    return [v for v in veclist if v[k] == 0]\n",
    "\n",
    "D = {'a', 'b', 'c'}\n",
    "v1 = Vec(D, {'a' : 1})\n",
    "v2 = Vec(D, {'a' : 0, 'b' : 1})\n",
    "v3 = Vec(D, {'b' : 2})\n",
    "v4 = Vec(D, {'a' : 10, 'b' : 10})\n",
    "\n",
    "vec_select([v1,v2,v3,v4], 'a') == vec_select([Vec(D, {'a' : 0, 'b' : 1}), Vec(D, {'b' : 2})], 'a')"
   ]
  },
  {
   "cell_type": "code",
   "execution_count": 11,
   "metadata": {},
   "outputs": [
    {
     "data": {
      "text/plain": [
       "Vec({'a', 'b', 'c'},{'a': 11, 'b': 13, 'c': 0})"
      ]
     },
     "execution_count": 11,
     "metadata": {},
     "output_type": "execute_result"
    }
   ],
   "source": [
    "def vec_sum(veclist, D) :\n",
    "    return sum(veclist, Vec(D, {}))\n",
    "\n",
    "vec_sum([v1,v2,v3,v4], D)"
   ]
  },
  {
   "cell_type": "code",
   "execution_count": 15,
   "metadata": {},
   "outputs": [
    {
     "data": {
      "text/plain": [
       "Vec({'a', 'b', 'c'},{'a': 0, 'b': 3, 'c': 0})"
      ]
     },
     "execution_count": 15,
     "metadata": {},
     "output_type": "execute_result"
    }
   ],
   "source": [
    "def vec_select_sum(veclist, k, D) :\n",
    "    \n",
    "    return vec_sum(vec_select(veclist, k), D)\n",
    "\n",
    "D = {'a', 'b', 'c'}\n",
    "vec_select_sum([v1,v2,v3,v4], 'a', D)"
   ]
  },
  {
   "cell_type": "code",
   "execution_count": 16,
   "metadata": {},
   "outputs": [],
   "source": [
    "from mat import Mat\n",
    "\n"
   ]
  },
  {
   "cell_type": "code",
   "execution_count": 45,
   "metadata": {},
   "outputs": [],
   "source": [
    "# identity matrix\n",
    "def identity(D) :\n",
    "    return Mat((D,D), {(k,k) : 1 for k in D})\n",
    "\n",
    "I = identity({'a', 'b', 'c'})\n"
   ]
  },
  {
   "cell_type": "code",
   "execution_count": 46,
   "metadata": {},
   "outputs": [],
   "source": [
    "# mat2coldict(A)\n",
    "def mat2coldict(A) :\n",
    "    return {c: Vec(A.D[0], {r:A[r,c] for r in A.D[0]})  for c in A.D[1] }"
   ]
  },
  {
   "cell_type": "code",
   "execution_count": 47,
   "metadata": {},
   "outputs": [
    {
     "data": {
      "text/plain": [
       "{'a': Vec({'a', 'b', 'c'},{'a': None, 'b': None, 'c': None}),\n",
       " 'b': Vec({'a', 'b', 'c'},{'a': None, 'b': None, 'c': None}),\n",
       " 'c': Vec({'a', 'b', 'c'},{'a': None, 'b': None, 'c': None})}"
      ]
     },
     "execution_count": 47,
     "metadata": {},
     "output_type": "execute_result"
    }
   ],
   "source": [
    "mat2coldict(I)"
   ]
  },
  {
   "cell_type": "code",
   "execution_count": 50,
   "metadata": {},
   "outputs": [
    {
     "data": {
      "text/plain": [
       "Mat((('a', 'b'), ('a', 'b')), {('a', 'a'): 1, ('b', 'a'): 2, ('a', 'b'): 3, ('b', 'b'): 4})"
      ]
     },
     "execution_count": 50,
     "metadata": {},
     "output_type": "execute_result"
    }
   ],
   "source": [
    "\n",
    "def transpose(M) :\n",
    "    return Mat((M.D[1], M.D[0]), {(q,p) : v for (p,q), v in M.f.items() })\n",
    "\n",
    "\n",
    "mat1 = Mat((('a', 'b'), ('a', 'b')), {('a', 'a') : 1, \n",
    "                                      ('a', 'b') : 2,\n",
    "                                      ('b', 'a') : 3,\n",
    "                                      ('b', 'b') : 4,})\n",
    "\n",
    "transpose(mat1)"
   ]
  },
  {
   "cell_type": "code",
   "execution_count": null,
   "metadata": {},
   "outputs": [],
   "source": []
  }
 ],
 "metadata": {
  "kernelspec": {
   "display_name": "Python 3",
   "language": "python",
   "name": "python3"
  },
  "language_info": {
   "codemirror_mode": {
    "name": "ipython",
    "version": 3
   },
   "file_extension": ".py",
   "mimetype": "text/x-python",
   "name": "python",
   "nbconvert_exporter": "python",
   "pygments_lexer": "ipython3",
   "version": "3.10.10"
  },
  "orig_nbformat": 4,
  "vscode": {
   "interpreter": {
    "hash": "7b1f2b33e866b0bf2409397e5f58ba9cdf170d3b7f64c8f359c79998e2f88ad4"
   }
  }
 },
 "nbformat": 4,
 "nbformat_minor": 2
}
