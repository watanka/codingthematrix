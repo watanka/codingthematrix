{
 "cells": [
  {
   "cell_type": "code",
   "execution_count": 3,
   "metadata": {},
   "outputs": [],
   "source": [
    "import numpy as np\n",
    "import random\n"
   ]
  },
  {
   "cell_type": "code",
   "execution_count": 10,
   "metadata": {},
   "outputs": [],
   "source": [
    "## Gaussian Elimination\n",
    "\n",
    "def gaussian_elimination(arr) :\n",
    "\n",
    "    domains = len(arr[0])\n",
    "    rows_left = list(range(len(arr)))\n",
    "\n",
    "    for d in range(domains) :\n",
    "        nonzero_entries = [r for r in rows_left if arr[r][d] != 0]\n",
    "        if nonzero_entries :\n",
    "            selected = nonzero_entries[0]\n",
    "            rows_left.remove(selected)\n",
    "            for others in nonzero_entries[1:] :\n",
    "                multiplier = int(arr[others][d] / arr[selected][d])\n",
    "                arr[others] -= arr[selected] * multiplier\n",
    "    \n",
    "    return arr\n",
    "\n",
    "        \n"
   ]
  },
  {
   "cell_type": "code",
   "execution_count": 12,
   "metadata": {},
   "outputs": [
    {
     "data": {
      "text/plain": [
       "array([[  1,   2,   3,   4,   5],\n",
       "       [  0,   1,  -3,   1,  -3],\n",
       "       [  0,   0,   2,   4,   6],\n",
       "       [  0,   0,   1, -20, -20],\n",
       "       [  0,   0,  -1,  -2,  -3]])"
      ]
     },
     "execution_count": 12,
     "metadata": {},
     "output_type": "execute_result"
    }
   ],
   "source": [
    "arr = np.array([[1,2,3,4,5],\n",
    "                [1,3,0,5,2],\n",
    "                [0,0,2,4,6],\n",
    "                [1,4,6,2,3],\n",
    "                [2,4,3,2,1]\n",
    "                ])\n",
    "\n",
    "gaussian_elimination(arr)"
   ]
  },
  {
   "cell_type": "code",
   "execution_count": 2,
   "metadata": {},
   "outputs": [
    {
     "name": "stdout",
     "output_type": "stream",
     "text": [
      "433102141\n",
      "3501678243\n",
      "151432885\n"
     ]
    }
   ],
   "source": [
    "## random bits estimation\n",
    "\n",
    "print(random.getrandbits(32))\n",
    "print(random.getrandbits(32))\n",
    "print(random.getrandbits(32))"
   ]
  },
  {
   "cell_type": "code",
   "execution_count": 17,
   "metadata": {},
   "outputs": [
    {
     "data": {
      "text/plain": [
       "'0b10000110110010111001010010100001'"
      ]
     },
     "execution_count": 17,
     "metadata": {},
     "output_type": "execute_result"
    }
   ],
   "source": [
    "## 64 bits password certification\n",
    "bin(random.getrandbits(32))"
   ]
  },
  {
   "cell_type": "code",
   "execution_count": null,
   "metadata": {},
   "outputs": [],
   "source": []
  }
 ],
 "metadata": {
  "kernelspec": {
   "display_name": "Python 3",
   "language": "python",
   "name": "python3"
  },
  "language_info": {
   "codemirror_mode": {
    "name": "ipython",
    "version": 3
   },
   "file_extension": ".py",
   "mimetype": "text/x-python",
   "name": "python",
   "nbconvert_exporter": "python",
   "pygments_lexer": "ipython3",
   "version": "3.10.10"
  },
  "orig_nbformat": 4,
  "vscode": {
   "interpreter": {
    "hash": "7b1f2b33e866b0bf2409397e5f58ba9cdf170d3b7f64c8f359c79998e2f88ad4"
   }
  }
 },
 "nbformat": 4,
 "nbformat_minor": 2
}
