{
 "cells": [
  {
   "attachments": {},
   "cell_type": "markdown",
   "metadata": {},
   "source": [
    "vector is a function from some domain D to a field."
   ]
  },
  {
   "cell_type": "code",
   "execution_count": 1,
   "metadata": {},
   "outputs": [],
   "source": [
    "class Vec :\n",
    "    def __init__(self, labels, function) :\n",
    "        self.D = labels\n",
    "        self.f = function"
   ]
  },
  {
   "cell_type": "code",
   "execution_count": 7,
   "metadata": {},
   "outputs": [
    {
     "name": "stdout",
     "output_type": "stream",
     "text": [
      "1\n"
     ]
    }
   ],
   "source": [
    "v = Vec({'A', 'B', 'C'}, {'A' : 1})\n",
    "\n",
    "for d in v.D :\n",
    "    if d in v.f :\n",
    "        print(v.f[d])\n",
    "\n"
   ]
  },
  {
   "attachments": {},
   "cell_type": "markdown",
   "metadata": {},
   "source": [
    "Quiz : Write a procedure zero_vec(D) with the following spec:  \n",
    "    - input : a set D  \n",
    "    - output : an instance of Vec representing a D-vector all of whose entries have value zero  "
   ]
  },
  {
   "cell_type": "code",
   "execution_count": 18,
   "metadata": {},
   "outputs": [],
   "source": [
    "def zero_vec(D) :\n",
    "    return Vec(D, {d:0 for d in D})"
   ]
  },
  {
   "cell_type": "code",
   "execution_count": 25,
   "metadata": {},
   "outputs": [],
   "source": [
    "D = {'A', 'B', 'C'}\n",
    "v = zero_vec(D)"
   ]
  },
  {
   "cell_type": "markdown",
   "metadata": {},
   "source": [
    "Dictionary-based representation of vectors : Setter and Getter"
   ]
  },
  {
   "cell_type": "code",
   "execution_count": null,
   "metadata": {},
   "outputs": [],
   "source": [
    "def setitem(v, d, val) : \n",
    "    v.f[d] = val\n"
   ]
  },
  {
   "attachments": {},
   "cell_type": "markdown",
   "metadata": {},
   "source": [
    "Quiz : Write a procedure getitem(v,d) with the following spec :  \n",
    "    - input : an instance v of Vec, and an element d of set v.D \n",
    "    - output : the value of entry d of v"
   ]
  },
  {
   "cell_type": "code",
   "execution_count": 28,
   "metadata": {},
   "outputs": [
    {
     "data": {
      "text/plain": [
       "0"
      ]
     },
     "execution_count": 28,
     "metadata": {},
     "output_type": "execute_result"
    }
   ],
   "source": [
    "def getitem(v, d) :\n",
    "    return v.f[d] if d in v.f else 0\n",
    "\n",
    "getitem(v, 'A')\n",
    "getitem(v, 'F')\n"
   ]
  },
  {
   "cell_type": "code",
   "execution_count": 31,
   "metadata": {},
   "outputs": [],
   "source": [
    "def add(u : Vec,v : Vec) :\n",
    "    u_keys = u.D\n",
    "    v_keys = v.D\n",
    "    assert u_keys == v_keys\n",
    "    new_d = set(u_keys).intersection(set(v_keys))\n",
    "    new_vec = Vec(new_d, {})\n",
    "    for d in new_d :\n",
    "        new_vec.f[d] = u.f[d] + v.f[d]\n",
    "\n",
    "    return new_vec\n",
    "        \n",
    "    "
   ]
  },
  {
   "cell_type": "code",
   "execution_count": 32,
   "metadata": {},
   "outputs": [
    {
     "data": {
      "text/plain": [
       "{'B': 5}"
      ]
     },
     "execution_count": 32,
     "metadata": {},
     "output_type": "execute_result"
    }
   ],
   "source": [
    "a = Vec({'A', 'B', 'C'}, {'A' : 1, 'B' : 2})\n",
    "b = Vec({'B', 'C', 'D'}, {'B' : 3, 'C' : 4})\n",
    "\n",
    "new_vec = add(a,b)\n",
    "\n",
    "new_vec.f"
   ]
  },
  {
   "attachments": {},
   "cell_type": "markdown",
   "metadata": {},
   "source": [
    "Quiz: Write a procedure list2vec(L) with the following spec:  \n",
    "    - input : a list L of field elements  \n",
    "    - output : an instance v of Vec with domain {0,1,2,..., len(L) - 1 } such that v[i] = L[i] for each integer i in domain  "
   ]
  },
  {
   "cell_type": "code",
   "execution_count": 35,
   "metadata": {},
   "outputs": [
    {
     "data": {
      "text/plain": [
       "Vec({0, 1, 2},{0: 10, 1: 20, 2: 30})"
      ]
     },
     "execution_count": 35,
     "metadata": {},
     "output_type": "execute_result"
    }
   ],
   "source": [
    "def list2vec(L) :\n",
    "    return Vec(set(range(len(L))), {i : l for i, l in enumerate(L)})\n",
    "\n",
    "list2vec([10,20,30])"
   ]
  },
  {
   "attachments": {},
   "cell_type": "markdown",
   "metadata": {},
   "source": [
    "Quiz: Write a procedure list_dot(u, v) with the following spec:  \n",
    "    - input: equal-length lists u and v of field elements  \n",
    "    -  output: the dot-product of u and v interpreted as vectors  \n",
    "    Hint: User the sum(-) procedure together with a list comprehension"
   ]
  },
  {
   "cell_type": "code",
   "execution_count": 37,
   "metadata": {},
   "outputs": [
    {
     "data": {
      "text/plain": [
       "1.55"
      ]
     },
     "execution_count": 37,
     "metadata": {},
     "output_type": "execute_result"
    }
   ],
   "source": [
    "def list_dot(u: Vec, v: Vec) :\n",
    "    return sum([u.f[d] * v.f[d] for d in u.D])\n",
    "\n",
    "cost = Vec({'barley', 'hops', 'yeast', 'water'}, {'barley' : 0.5, 'hops' : 0.5, 'yeast' : 0.28, 'water' : 0.05})\n",
    "quantity = Vec({'barley', 'hops', 'yeast', 'water'}, {'barley' : 0.5, 'hops' : 0.2, 'yeast' : 2.5, 'water' : 10})\n",
    "list_dot(cost, quantity)"
   ]
  },
  {
   "cell_type": "code",
   "execution_count": null,
   "metadata": {},
   "outputs": [],
   "source": []
  }
 ],
 "metadata": {
  "kernelspec": {
   "display_name": "Python 3",
   "language": "python",
   "name": "python3"
  },
  "language_info": {
   "codemirror_mode": {
    "name": "ipython",
    "version": 3
   },
   "file_extension": ".py",
   "mimetype": "text/x-python",
   "name": "python",
   "nbconvert_exporter": "python",
   "pygments_lexer": "ipython3",
   "version": "3.10.10"
  },
  "orig_nbformat": 4,
  "vscode": {
   "interpreter": {
    "hash": "7b1f2b33e866b0bf2409397e5f58ba9cdf170d3b7f64c8f359c79998e2f88ad4"
   }
  }
 },
 "nbformat": 4,
 "nbformat_minor": 2
}
